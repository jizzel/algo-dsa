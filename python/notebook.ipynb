{
 "cells": [
  {
   "cell_type": "markdown",
   "metadata": {},
   "source": [
    "# Leetcode Daily Coding Solutions\n",
    "\n",
    "## Overview\n",
    "\n",
    "Welcome to the **Leetcode Daily Coding Solutions** notebook! This notebook serves as a comprehensive tracker and repository of the Python solutions to various coding problems my friend and I solve daily on Leetcode.\n",
    "\n",
    "## Purpose\n",
    "\n",
    "The goal of this notebook is to document our progress as we tackle Leetcode problems, systematically improving our problem-solving skills, and reinforcing our understanding of key algorithms and data structures. By keeping a record of each problem we solve, along with detailed explanations, we aim to:\n",
    "\n",
    "- **Track Progress:** Monitor our daily coding journey and visualize the growth in our problem-solving abilities.\n",
    "- **Consolidate Knowledge:** Develop a deeper understanding of various coding techniques, algorithms, and data structures by documenting and reviewing each solution.\n",
    "- **Enhance Collaboration:** Facilitate discussions and code reviews, allowing us to learn from each other's approaches and insights.\n",
    "- **Serve as a Reference:** Create a personal code library that can be referred to in the future for quick refreshers or interviews.\n",
    "\n",
    "## Contents\n",
    "\n",
    "The notebook is structured to include:\n",
    "\n",
    "- **Problem Statement:** A clear description of the problem, including any relevant constraints and example inputs/outputs.\n",
    "- **Solution Approach:** An outline of the thought process and algorithm used to solve the problem.\n",
    "- **Python Code:** The implementation of the solution in Python, following best coding practices.\n",
    "- **Complexity Analysis:** A brief analysis of the time and space complexity of the solution.\n",
    "- **Alternate Approaches:** (If applicable) Exploration of different ways to solve the problem, comparing their efficiency and readability.\n",
    "\n",
    "## Structure\n",
    "\n",
    "Each problem is organized by:\n",
    "\n",
    "1. **Date Solved:** The date on which the problem was solved.\n",
    "2. **Problem Category:** The type of problem (e.g., arrays, strings, dynamic programming).\n",
    "3. **Solution Code:** The Python code implementation of the solution.\n",
    "4. **Notes and Observations:** Any additional notes, insights, or learnings from solving the problem.\n",
    "\n",
    "## Future Goals\n",
    "\n",
    "- **Expand Problem Coverage:** Continue solving a wide range of problems to cover different categories and difficulty levels.\n",
    "- **Optimize Solutions:** Revisit past solutions to improve efficiency and explore alternative algorithms.\n",
    "- **Collaborative Growth:** Engage in regular code reviews with my friend to provide constructive feedback and learn from each other’s approaches.\n",
    "\n",
    "We are excited to continue this journey of daily coding practice and self-improvement. Feel free to explore the notebook and follow along with our progress!\n"
   ]
  },
  {
   "cell_type": "code",
   "execution_count": 3,
   "metadata": {},
   "outputs": [],
   "source": [
    "# Imports\n",
    "\n",
    "from typing import List"
   ]
  },
  {
   "cell_type": "markdown",
   "metadata": {},
   "source": [
    "---"
   ]
  },
  {
   "cell_type": "markdown",
   "metadata": {},
   "source": [
    "# Day 1: Leetcode Problem 344 - Reverse String\n",
    "\n",
    "## Problem Statement\n",
    "\n",
    "**Difficulty:** Easy  \n",
    "**Topics:** String Manipulation\n",
    "**Hint:** In-place Modification\n",
    "\n",
    "Write a function that reverses a string. The input string is given as an array of characters `s`.\n",
    "\n",
    "You must do this by modifying the input array **in-place** with O(1) extra memory.\n",
    "\n",
    "## Example 1:\n",
    "\n",
    "- **Input:** `s = [\"h\",\"e\",\"l\",\"l\",\"o\"]`\n",
    "- **Output:** `[\"o\",\"l\",\"l\",\"e\",\"h\"]`\n",
    "\n",
    "## Example 2:\n",
    "\n",
    "- **Input:** `s = [\"H\",\"a\",\"n\",\"n\",\"a\",\"h\"]`\n",
    "- **Output:** `[\"h\",\"a\",\"n\",\"n\",\"a\",\"H\"]`\n",
    "\n",
    "## Constraints:\n",
    "\n",
    "- `1 <= s.length <= 10^5`\n",
    "- `s[i]` is a printable ASCII character.\n",
    "\n",
    "---\n",
    "\n",
    "*This problem is a classic example of using two pointers to reverse elements in an array efficiently without using additional memory.*  \n",
    "*Next, we'll dive into the Python solution and explore how we can achieve the desired result with O(1) extra space.*\n"
   ]
  },
  {
   "cell_type": "code",
   "execution_count": 11,
   "metadata": {},
   "outputs": [
    {
     "name": "stdout",
     "output_type": "stream",
     "text": [
      "Original String:  ['h', 'e', 'l', 'l', 'o']\n",
      "Reversed String: ['o', 'l', 'l', 'e', 'h']\n",
      "Original String:  ['', 'A', 'B', '', 'y']\n",
      "Reversed String: ['y', '', 'B', 'A', '']\n"
     ]
    },
    {
     "data": {
      "text/plain": [
       "'\\n    Time complexity: O(n)\\n    Space complexity: O(1)\\n'"
      ]
     },
     "execution_count": 11,
     "metadata": {},
     "output_type": "execute_result"
    }
   ],
   "source": [
    "class Solution:\n",
    "    def reverseString(self, s: List[str]) -> None:\n",
    "        \"\"\"\n",
    "        Do not return anything, modify s in-place instead.\n",
    "        \"\"\"\n",
    "        left = 0\n",
    "        right = len(s) - 1\n",
    "\n",
    "        while left < right:\n",
    "            s[left], s[right] = s[right], s[left]\n",
    "            left += 1\n",
    "            right -= 1\n",
    "\n",
    "\n",
    "## TEST CASES:\n",
    "\n",
    "s = [\"h\", \"e\", \"l\", \"l\", \"o\"]\n",
    "print(\"Original String: \", s)\n",
    "Solution().reverseString(s)\n",
    "print(\"Reversed String:\", s)\n",
    "\n",
    "\n",
    "s = [\"\", \"A\", \"B\", \"\", \"y\"]\n",
    "print(\"Original String: \", s)\n",
    "Solution().reverseString(s)\n",
    "print(\"Reversed String:\", s)\n",
    "\n",
    "\"\"\"\n",
    "Time complexity: O(n)\n",
    "Space complexity: O(1)\n",
    "\"\"\""
   ]
  },
  {
   "cell_type": "code",
   "execution_count": null,
   "metadata": {},
   "outputs": [],
   "source": []
  }
 ],
 "metadata": {
  "kernelspec": {
   "display_name": "zindi_projects-Vt0mrh2a-py3.9",
   "language": "python",
   "name": "python3"
  },
  "language_info": {
   "codemirror_mode": {
    "name": "ipython",
    "version": 3
   },
   "file_extension": ".py",
   "mimetype": "text/x-python",
   "name": "python",
   "nbconvert_exporter": "python",
   "pygments_lexer": "ipython3",
   "version": "3.9.11"
  }
 },
 "nbformat": 4,
 "nbformat_minor": 2
}
